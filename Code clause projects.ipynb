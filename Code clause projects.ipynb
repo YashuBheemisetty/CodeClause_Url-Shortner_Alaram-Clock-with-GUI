{
 "cells": [
  {
   "cell_type": "markdown",
   "id": "565435d2",
   "metadata": {},
   "source": [
    "ALARAM CLOCK WITH GUI USING PYTHON"
   ]
  },
  {
   "cell_type": "code",
   "execution_count": 1,
   "id": "4c384af4",
   "metadata": {},
   "outputs": [
    {
     "name": "stdout",
     "output_type": "stream",
     "text": [
      "19:09:05 01:08:10\n",
      "19:09:06 01:08:10\n",
      "19:09:07 01:08:10\n",
      "19:09:08 01:08:10\n"
     ]
    }
   ],
   "source": [
    "# Import Required Library\n",
    "from tkinter import *\n",
    "import datetime\n",
    "import time\n",
    "import winsound\n",
    "from threading import *\n",
    " \n",
    "# Create Object\n",
    "root = Tk()\n",
    " \n",
    "# Set geometry\n",
    "root.geometry(\"400x200\")\n",
    " \n",
    "# Use Threading\n",
    "def Threading():\n",
    "    t1=Thread(target=alarm)\n",
    "    t1.start()\n",
    " \n",
    "def alarm():\n",
    "    # Infinite Loop\n",
    "    while True:\n",
    "        # Set Alarm\n",
    "        set_alarm_time = f\"{hour.get()}:{minute.get()}:{second.get()}\"\n",
    " \n",
    "        # Wait for one seconds\n",
    "        time.sleep(1)\n",
    " \n",
    "        # Get current time\n",
    "        current_time = datetime.datetime.now().strftime(\"%H:%M:%S\")\n",
    "        print(current_time,set_alarm_time)\n",
    " \n",
    "        # Check whether set alarm is equal to current time or not\n",
    "        if current_time == set_alarm_time:\n",
    "            print(\"Time to Wake up\")\n",
    "            # Playing sound\n",
    "            winsound.PlaySound(\"sound.wav\",winsound.SND_ASYNC)\n",
    " \n",
    "# Add Labels, Frame, Button, Optionmenus\n",
    "Label(root,text=\"Alarm Clock\",font=(\"Helvetica 20 bold\"),fg=\"red\").pack(pady=10)\n",
    "Label(root,text=\"Set Time\",font=(\"Helvetica 15 bold\")).pack()\n",
    " \n",
    "frame = Frame(root)\n",
    "frame.pack()\n",
    " \n",
    "hour = StringVar(root)\n",
    "hours = ('00', '01', '02', '03', '04', '05', '06', '07',\n",
    "         '08', '09', '10', '11', '12', '13', '14', '15',\n",
    "         '16', '17', '18', '19', '20', '21', '22', '23', '24'\n",
    "        )\n",
    "hour.set(hours[0])\n",
    " \n",
    "hrs = OptionMenu(frame, hour, *hours)\n",
    "hrs.pack(side=LEFT)\n",
    " \n",
    "minute = StringVar(root)\n",
    "minutes = ('00', '01', '02', '03', '04', '05', '06', '07',\n",
    "           '08', '09', '10', '11', '12', '13', '14', '15',\n",
    "           '16', '17', '18', '19', '20', '21', '22', '23',\n",
    "           '24', '25', '26', '27', '28', '29', '30', '31',\n",
    "           '32', '33', '34', '35', '36', '37', '38', '39',\n",
    "           '40', '41', '42', '43', '44', '45', '46', '47',\n",
    "           '48', '49', '50', '51', '52', '53', '54', '55',\n",
    "           '56', '57', '58', '59', '60')\n",
    "minute.set(minutes[0])\n",
    " \n",
    "mins = OptionMenu(frame, minute, *minutes)\n",
    "mins.pack(side=LEFT)\n",
    " \n",
    "second = StringVar(root)\n",
    "seconds = ('00', '01', '02', '03', '04', '05', '06', '07',\n",
    "           '08', '09', '10', '11', '12', '13', '14', '15',\n",
    "           '16', '17', '18', '19', '20', '21', '22', '23',\n",
    "           '24', '25', '26', '27', '28', '29', '30', '31',\n",
    "           '32', '33', '34', '35', '36', '37', '38', '39',\n",
    "           '40', '41', '42', '43', '44', '45', '46', '47',\n",
    "           '48', '49', '50', '51', '52', '53', '54', '55',\n",
    "           '56', '57', '58', '59', '60')\n",
    "second.set(seconds[0])\n",
    " \n",
    "secs = OptionMenu(frame, second, *seconds)\n",
    "secs.pack(side=LEFT)\n",
    " \n",
    "Button(root,text=\"Set Alarm\",font=(\"Helvetica 15\"),command=Threading).pack(pady=20)\n",
    " \n",
    "# Execute Tkinter\n",
    "root.mainloop()"
   ]
  },
  {
   "cell_type": "markdown",
   "id": "90552da3",
   "metadata": {},
   "source": [
    "URL SHORTNER USING PYTHON"
   ]
  },
  {
   "cell_type": "code",
   "execution_count": 6,
   "id": "258dde70",
   "metadata": {},
   "outputs": [
    {
     "name": "stdout",
     "output_type": "stream",
     "text": [
      "Shortened URL: https://cutt.ly/w5x74mG\n"
     ]
    }
   ],
   "source": [
    "import requests\n",
    "\n",
    "api_key = \"04d9fe43d9fe4555a351ab5793808d15ca96b\"\n",
    "# the URL you want to shorten\n",
    "url = \"https://www.thepythoncode.com/topic/using-apis-in-python\"\n",
    "# preferred name in the URL\n",
    "api_url = f\"https://cutt.ly/api/api.php?key={api_key}&short={url}\"\n",
    "# or\n",
    "# api_url = f\"https://cutt.ly/api/api.php?key={api_key}&short={url}&name=some_unique_name\"\n",
    "# make the request\n",
    "data = requests.get(api_url).json()[\"url\"]\n",
    "if data[\"status\"] == 7:\n",
    "    # OK, get shortened URL\n",
    "    shortened_url = data[\"shortLink\"]\n",
    "    print(\"Shortened URL:\", shortened_url)\n",
    "else:\n",
    "    print(\"[!] Error Shortening URL:\", data)"
   ]
  },
  {
   "cell_type": "code",
   "execution_count": null,
   "id": "62d1fb7f",
   "metadata": {},
   "outputs": [],
   "source": []
  }
 ],
 "metadata": {
  "kernelspec": {
   "display_name": "Python 3 (ipykernel)",
   "language": "python",
   "name": "python3"
  },
  "language_info": {
   "codemirror_mode": {
    "name": "ipython",
    "version": 3
   },
   "file_extension": ".py",
   "mimetype": "text/x-python",
   "name": "python",
   "nbconvert_exporter": "python",
   "pygments_lexer": "ipython3",
   "version": "3.9.12"
  }
 },
 "nbformat": 4,
 "nbformat_minor": 5
}
